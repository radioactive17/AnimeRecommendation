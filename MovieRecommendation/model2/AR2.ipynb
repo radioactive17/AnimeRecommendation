{
  "nbformat": 4,
  "nbformat_minor": 0,
  "metadata": {
    "colab": {
      "name": "AR2.ipynb",
      "provenance": []
    },
    "kernelspec": {
      "name": "python3",
      "display_name": "Python 3"
    }
  },
  "cells": [
    {
      "cell_type": "code",
      "metadata": {
        "id": "eMzN8uBQUhIi",
        "colab_type": "code",
        "colab": {
          "base_uri": "https://localhost:8080/",
          "height": 306
        },
        "outputId": "fccca5ea-a040-44d0-9cc2-c1f6263f1835"
      },
      "source": [
        "!pip install surprise"
      ],
      "execution_count": null,
      "outputs": [
        {
          "output_type": "stream",
          "text": [
            "Collecting surprise\n",
            "  Downloading https://files.pythonhosted.org/packages/61/de/e5cba8682201fcf9c3719a6fdda95693468ed061945493dea2dd37c5618b/surprise-0.1-py2.py3-none-any.whl\n",
            "Collecting scikit-surprise\n",
            "\u001b[?25l  Downloading https://files.pythonhosted.org/packages/f5/da/b5700d96495fb4f092be497f02492768a3d96a3f4fa2ae7dea46d4081cfa/scikit-surprise-1.1.0.tar.gz (6.4MB)\n",
            "\u001b[K     |████████████████████████████████| 6.5MB 71kB/s \n",
            "\u001b[?25hRequirement already satisfied: joblib>=0.11 in /usr/local/lib/python3.6/dist-packages (from scikit-surprise->surprise) (0.16.0)\n",
            "Requirement already satisfied: numpy>=1.11.2 in /usr/local/lib/python3.6/dist-packages (from scikit-surprise->surprise) (1.18.5)\n",
            "Requirement already satisfied: scipy>=1.0.0 in /usr/local/lib/python3.6/dist-packages (from scikit-surprise->surprise) (1.4.1)\n",
            "Requirement already satisfied: six>=1.10.0 in /usr/local/lib/python3.6/dist-packages (from scikit-surprise->surprise) (1.12.0)\n",
            "Building wheels for collected packages: scikit-surprise\n",
            "  Building wheel for scikit-surprise (setup.py) ... \u001b[?25l\u001b[?25hdone\n",
            "  Created wheel for scikit-surprise: filename=scikit_surprise-1.1.0-cp36-cp36m-linux_x86_64.whl size=1670740 sha256=1527ca260a6271ad2fcd550a52a1a68c238258d279b7c05aeb10437357464132\n",
            "  Stored in directory: /root/.cache/pip/wheels/cc/fa/8c/16c93fccce688ae1bde7d979ff102f7bee980d9cfeb8641bcf\n",
            "Successfully built scikit-surprise\n",
            "Installing collected packages: scikit-surprise, surprise\n",
            "Successfully installed scikit-surprise-1.1.0 surprise-0.1\n"
          ],
          "name": "stdout"
        }
      ]
    },
    {
      "cell_type": "code",
      "metadata": {
        "id": "df6CPO5sHCIt",
        "colab_type": "code",
        "colab": {}
      },
      "source": [
        "import os\n",
        "import pandas as pd\n",
        "import numpy as np\n",
        "from surprise import Reader\n",
        "from surprise import Dataset\n",
        "from surprise.model_selection import KFold\n",
        "from surprise.model_selection import cross_validate\n",
        "from surprise import NormalPredictor\n",
        "from surprise import KNNBasic\n",
        "from surprise import KNNWithMeans\n",
        "from surprise import KNNWithZScore\n",
        "from surprise import KNNBaseline\n",
        "from surprise import SVD\n",
        "from surprise import SVDpp\n",
        "from surprise import NMF\n",
        "from surprise import SlopeOne\n",
        "from surprise import CoClustering\n",
        "from surprise.accuracy import rmse\n",
        "from surprise import accuracy\n",
        "from surprise.model_selection import train_test_split\n",
        "from surprise.model_selection import GridSearchCV\n",
        "from collections import defaultdict"
      ],
      "execution_count": null,
      "outputs": []
    },
    {
      "cell_type": "code",
      "metadata": {
        "id": "hwmLa_acHMja",
        "colab_type": "code",
        "colab": {
          "base_uri": "https://localhost:8080/",
          "height": 195
        },
        "outputId": "fbaece43-a647-4479-c0b6-ff30416fdcf5"
      },
      "source": [
        "ratings = pd.read_csv('ratings.csv')\n",
        "ratings.head()"
      ],
      "execution_count": null,
      "outputs": [
        {
          "output_type": "execute_result",
          "data": {
            "text/html": [
              "<div>\n",
              "<style scoped>\n",
              "    .dataframe tbody tr th:only-of-type {\n",
              "        vertical-align: middle;\n",
              "    }\n",
              "\n",
              "    .dataframe tbody tr th {\n",
              "        vertical-align: top;\n",
              "    }\n",
              "\n",
              "    .dataframe thead th {\n",
              "        text-align: right;\n",
              "    }\n",
              "</style>\n",
              "<table border=\"1\" class=\"dataframe\">\n",
              "  <thead>\n",
              "    <tr style=\"text-align: right;\">\n",
              "      <th></th>\n",
              "      <th>userId</th>\n",
              "      <th>movieId</th>\n",
              "      <th>rating</th>\n",
              "      <th>timestamp</th>\n",
              "    </tr>\n",
              "  </thead>\n",
              "  <tbody>\n",
              "    <tr>\n",
              "      <th>0</th>\n",
              "      <td>1</td>\n",
              "      <td>1</td>\n",
              "      <td>4.0</td>\n",
              "      <td>964982703</td>\n",
              "    </tr>\n",
              "    <tr>\n",
              "      <th>1</th>\n",
              "      <td>1</td>\n",
              "      <td>3</td>\n",
              "      <td>4.0</td>\n",
              "      <td>964981247</td>\n",
              "    </tr>\n",
              "    <tr>\n",
              "      <th>2</th>\n",
              "      <td>1</td>\n",
              "      <td>6</td>\n",
              "      <td>4.0</td>\n",
              "      <td>964982224</td>\n",
              "    </tr>\n",
              "    <tr>\n",
              "      <th>3</th>\n",
              "      <td>1</td>\n",
              "      <td>47</td>\n",
              "      <td>5.0</td>\n",
              "      <td>964983815</td>\n",
              "    </tr>\n",
              "    <tr>\n",
              "      <th>4</th>\n",
              "      <td>1</td>\n",
              "      <td>50</td>\n",
              "      <td>5.0</td>\n",
              "      <td>964982931</td>\n",
              "    </tr>\n",
              "  </tbody>\n",
              "</table>\n",
              "</div>"
            ],
            "text/plain": [
              "   userId  movieId  rating  timestamp\n",
              "0       1        1     4.0  964982703\n",
              "1       1        3     4.0  964981247\n",
              "2       1        6     4.0  964982224\n",
              "3       1       47     5.0  964983815\n",
              "4       1       50     5.0  964982931"
            ]
          },
          "metadata": {
            "tags": []
          },
          "execution_count": 4
        }
      ]
    },
    {
      "cell_type": "code",
      "metadata": {
        "id": "SNeMeQoIHYSy",
        "colab_type": "code",
        "colab": {
          "base_uri": "https://localhost:8080/",
          "height": 34
        },
        "outputId": "ff3c7258-e332-4ee1-b309-4d0ed41f6bcc"
      },
      "source": [
        "ratings_dict = {'itemID': list(ratings.movieId),\n",
        "                'userID': list(ratings.userId),\n",
        "                'rating': list(ratings.rating)}\n",
        "\n",
        "df = pd.DataFrame(ratings_dict)\n",
        "df.shape"
      ],
      "execution_count": null,
      "outputs": [
        {
          "output_type": "execute_result",
          "data": {
            "text/plain": [
              "(100836, 3)"
            ]
          },
          "metadata": {
            "tags": []
          },
          "execution_count": 5
        }
      ]
    },
    {
      "cell_type": "code",
      "metadata": {
        "id": "zXLv4FIJHe0S",
        "colab_type": "code",
        "colab": {}
      },
      "source": [
        "reader = Reader(line_format='user item rating timestamp', sep='\\t')\n",
        "\n",
        "reader = Reader(rating_scale=(0.5, 5.0))\n",
        "\n",
        "data = Dataset.load_from_df(df[['userID', 'itemID', 'rating']], reader)\n"
      ],
      "execution_count": null,
      "outputs": []
    },
    {
      "cell_type": "code",
      "metadata": {
        "id": "SN-9fIdpHlzq",
        "colab_type": "code",
        "colab": {
          "base_uri": "https://localhost:8080/",
          "height": 118
        },
        "outputId": "73afac36-0db9-407c-b4c0-302cbdf69aa3"
      },
      "source": [
        "data = Dataset.load_from_df(df[['userID', 'itemID', 'rating']], reader)\n",
        "\n",
        "benchmark = []\n",
        "# Iterate over all algorithms\n",
        "for algorithm in [SVD(), NMF(), NormalPredictor(), KNNBasic()]:\n",
        "    # Perform cross validation\n",
        "    results = cross_validate(algorithm, data, measures=['RMSE'], cv=3, verbose=False)\n",
        "    \n",
        "    # Get results & append algorithm name\n",
        "    tmp = pd.DataFrame.from_dict(results).mean(axis=0)\n",
        "    tmp = tmp.append(pd.Series([str(algorithm).split(' ')[0].split('.')[-1]],index=['Algorithm']))\n",
        "    benchmark.append(tmp)"
      ],
      "execution_count": null,
      "outputs": [
        {
          "output_type": "stream",
          "text": [
            "Computing the msd similarity matrix...\n",
            "Done computing similarity matrix.\n",
            "Computing the msd similarity matrix...\n",
            "Done computing similarity matrix.\n",
            "Computing the msd similarity matrix...\n",
            "Done computing similarity matrix.\n"
          ],
          "name": "stdout"
        }
      ]
    },
    {
      "cell_type": "code",
      "metadata": {
        "id": "k4tJ-8kpH3yZ",
        "colab_type": "code",
        "colab": {
          "base_uri": "https://localhost:8080/",
          "height": 195
        },
        "outputId": "e639a72c-983c-4ffa-a92c-668e74b626dc"
      },
      "source": [
        "surprise_results = pd.DataFrame(benchmark).set_index('Algorithm').sort_values('test_rmse')\n",
        "surprise_results"
      ],
      "execution_count": null,
      "outputs": [
        {
          "output_type": "execute_result",
          "data": {
            "text/html": [
              "<div>\n",
              "<style scoped>\n",
              "    .dataframe tbody tr th:only-of-type {\n",
              "        vertical-align: middle;\n",
              "    }\n",
              "\n",
              "    .dataframe tbody tr th {\n",
              "        vertical-align: top;\n",
              "    }\n",
              "\n",
              "    .dataframe thead th {\n",
              "        text-align: right;\n",
              "    }\n",
              "</style>\n",
              "<table border=\"1\" class=\"dataframe\">\n",
              "  <thead>\n",
              "    <tr style=\"text-align: right;\">\n",
              "      <th></th>\n",
              "      <th>test_rmse</th>\n",
              "      <th>fit_time</th>\n",
              "      <th>test_time</th>\n",
              "    </tr>\n",
              "    <tr>\n",
              "      <th>Algorithm</th>\n",
              "      <th></th>\n",
              "      <th></th>\n",
              "      <th></th>\n",
              "    </tr>\n",
              "  </thead>\n",
              "  <tbody>\n",
              "    <tr>\n",
              "      <th>SVD</th>\n",
              "      <td>0.880456</td>\n",
              "      <td>3.998835</td>\n",
              "      <td>0.282019</td>\n",
              "    </tr>\n",
              "    <tr>\n",
              "      <th>NMF</th>\n",
              "      <td>0.933666</td>\n",
              "      <td>4.824095</td>\n",
              "      <td>0.215566</td>\n",
              "    </tr>\n",
              "    <tr>\n",
              "      <th>KNNBasic</th>\n",
              "      <td>0.958345</td>\n",
              "      <td>0.093289</td>\n",
              "      <td>2.265997</td>\n",
              "    </tr>\n",
              "    <tr>\n",
              "      <th>NormalPredictor</th>\n",
              "      <td>1.424985</td>\n",
              "      <td>0.103326</td>\n",
              "      <td>0.317489</td>\n",
              "    </tr>\n",
              "  </tbody>\n",
              "</table>\n",
              "</div>"
            ],
            "text/plain": [
              "                 test_rmse  fit_time  test_time\n",
              "Algorithm                                      \n",
              "SVD               0.880456  3.998835   0.282019\n",
              "NMF               0.933666  4.824095   0.215566\n",
              "KNNBasic          0.958345  0.093289   2.265997\n",
              "NormalPredictor   1.424985  0.103326   0.317489"
            ]
          },
          "metadata": {
            "tags": []
          },
          "execution_count": 8
        }
      ]
    },
    {
      "cell_type": "code",
      "metadata": {
        "id": "Q7fCOpsxH8JM",
        "colab_type": "code",
        "colab": {
          "base_uri": "https://localhost:8080/",
          "height": 50
        },
        "outputId": "512b728a-f7fc-4684-ccaa-dcb55a22fb67"
      },
      "source": [
        "param_grid = {'n_factors': [25, 30, 35, 40], 'n_epochs': [15, 20, 25], 'lr_all': [0.001, 0.003, 0.005, 0.008],\n",
        "              'reg_all': [0.08, 0.1, 0.15]}\n",
        "gs = GridSearchCV(SVD, param_grid, measures=['rmse', 'mae'], cv=3)\n",
        "gs.fit(data)\n",
        "algo = gs.best_estimator['rmse']\n",
        "print(gs.best_score['rmse'])\n",
        "print(gs.best_params['rmse'])\n",
        "\n",
        "#Assigning values\n",
        "t = gs.best_params\n",
        "factors = t['rmse']['n_factors']\n",
        "epochs = t['rmse']['n_epochs']\n",
        "lr_value = t['rmse']['lr_all']\n",
        "reg_value = t['rmse']['reg_all']"
      ],
      "execution_count": null,
      "outputs": [
        {
          "output_type": "stream",
          "text": [
            "0.8674667831784787\n",
            "{'n_factors': 40, 'n_epochs': 25, 'lr_all': 0.008, 'reg_all': 0.08}\n"
          ],
          "name": "stdout"
        }
      ]
    },
    {
      "cell_type": "code",
      "metadata": {
        "id": "wf_zcP_AOxrG",
        "colab_type": "code",
        "colab": {
          "base_uri": "https://localhost:8080/",
          "height": 50
        },
        "outputId": "e4cb0e09-582d-4632-b238-a1cd5ca800f4"
      },
      "source": [
        "trainset, testset = train_test_split(data, test_size=0.25)\n",
        "algo = SVD(n_factors=factors, n_epochs=epochs, lr_all=lr_value, reg_all=reg_value)\n",
        "predictions = algo.fit(trainset).test(testset)\n",
        "accuracy.rmse(predictions)"
      ],
      "execution_count": null,
      "outputs": [
        {
          "output_type": "stream",
          "text": [
            "RMSE: 0.8654\n"
          ],
          "name": "stdout"
        },
        {
          "output_type": "execute_result",
          "data": {
            "text/plain": [
              "0.8653693635064824"
            ]
          },
          "metadata": {
            "tags": []
          },
          "execution_count": 10
        }
      ]
    },
    {
      "cell_type": "code",
      "metadata": {
        "id": "pA97MvQJO0EU",
        "colab_type": "code",
        "colab": {}
      },
      "source": [
        "def get_Iu(uid):\n",
        "    try:\n",
        "        return len(trainset.ur[trainset.to_inner_uid(uid)])\n",
        "    except ValueError: # user was not part of the trainset\n",
        "        return 0\n",
        "    \n",
        "def get_Ui(iid):\n",
        "    try: \n",
        "        return len(trainset.ir[trainset.to_inner_iid(iid)])\n",
        "    except ValueError:\n",
        "        return 0\n",
        "\n",
        "    \n",
        "df_predictions = pd.DataFrame(predictions, columns=['uid', 'iid', 'rui', 'est', 'details'])\n",
        "df_predictions['Iu'] = df_predictions.uid.apply(get_Iu)\n",
        "df_predictions['Ui'] = df_predictions.iid.apply(get_Ui)\n",
        "df_predictions['err'] = abs(df_predictions.est - df_predictions.rui)"
      ],
      "execution_count": null,
      "outputs": []
    },
    {
      "cell_type": "code",
      "metadata": {
        "id": "mA7ARYoWPHmC",
        "colab_type": "code",
        "colab": {
          "base_uri": "https://localhost:8080/",
          "height": 195
        },
        "outputId": "b98aaf46-d96d-421d-d1b6-d3cf2b81a71b"
      },
      "source": [
        "df_predictions.head()"
      ],
      "execution_count": null,
      "outputs": [
        {
          "output_type": "execute_result",
          "data": {
            "text/html": [
              "<div>\n",
              "<style scoped>\n",
              "    .dataframe tbody tr th:only-of-type {\n",
              "        vertical-align: middle;\n",
              "    }\n",
              "\n",
              "    .dataframe tbody tr th {\n",
              "        vertical-align: top;\n",
              "    }\n",
              "\n",
              "    .dataframe thead th {\n",
              "        text-align: right;\n",
              "    }\n",
              "</style>\n",
              "<table border=\"1\" class=\"dataframe\">\n",
              "  <thead>\n",
              "    <tr style=\"text-align: right;\">\n",
              "      <th></th>\n",
              "      <th>uid</th>\n",
              "      <th>iid</th>\n",
              "      <th>rui</th>\n",
              "      <th>est</th>\n",
              "      <th>details</th>\n",
              "      <th>Iu</th>\n",
              "      <th>Ui</th>\n",
              "      <th>err</th>\n",
              "    </tr>\n",
              "  </thead>\n",
              "  <tbody>\n",
              "    <tr>\n",
              "      <th>0</th>\n",
              "      <td>232</td>\n",
              "      <td>55232</td>\n",
              "      <td>3.5</td>\n",
              "      <td>2.897275</td>\n",
              "      <td>{'was_impossible': False}</td>\n",
              "      <td>666</td>\n",
              "      <td>5</td>\n",
              "      <td>0.602725</td>\n",
              "    </tr>\n",
              "    <tr>\n",
              "      <th>1</th>\n",
              "      <td>239</td>\n",
              "      <td>6365</td>\n",
              "      <td>5.0</td>\n",
              "      <td>3.832991</td>\n",
              "      <td>{'was_impossible': False}</td>\n",
              "      <td>197</td>\n",
              "      <td>71</td>\n",
              "      <td>1.167009</td>\n",
              "    </tr>\n",
              "    <tr>\n",
              "      <th>2</th>\n",
              "      <td>387</td>\n",
              "      <td>48774</td>\n",
              "      <td>4.5</td>\n",
              "      <td>3.500470</td>\n",
              "      <td>{'was_impossible': False}</td>\n",
              "      <td>792</td>\n",
              "      <td>47</td>\n",
              "      <td>0.999530</td>\n",
              "    </tr>\n",
              "    <tr>\n",
              "      <th>3</th>\n",
              "      <td>156</td>\n",
              "      <td>4973</td>\n",
              "      <td>4.0</td>\n",
              "      <td>4.114419</td>\n",
              "      <td>{'was_impossible': False}</td>\n",
              "      <td>306</td>\n",
              "      <td>91</td>\n",
              "      <td>0.114419</td>\n",
              "    </tr>\n",
              "    <tr>\n",
              "      <th>4</th>\n",
              "      <td>586</td>\n",
              "      <td>858</td>\n",
              "      <td>3.0</td>\n",
              "      <td>4.993646</td>\n",
              "      <td>{'was_impossible': False}</td>\n",
              "      <td>159</td>\n",
              "      <td>143</td>\n",
              "      <td>1.993646</td>\n",
              "    </tr>\n",
              "  </tbody>\n",
              "</table>\n",
              "</div>"
            ],
            "text/plain": [
              "   uid    iid  rui       est                    details   Iu   Ui       err\n",
              "0  232  55232  3.5  2.897275  {'was_impossible': False}  666    5  0.602725\n",
              "1  239   6365  5.0  3.832991  {'was_impossible': False}  197   71  1.167009\n",
              "2  387  48774  4.5  3.500470  {'was_impossible': False}  792   47  0.999530\n",
              "3  156   4973  4.0  4.114419  {'was_impossible': False}  306   91  0.114419\n",
              "4  586    858  3.0  4.993646  {'was_impossible': False}  159  143  1.993646"
            ]
          },
          "metadata": {
            "tags": []
          },
          "execution_count": 12
        }
      ]
    },
    {
      "cell_type": "code",
      "metadata": {
        "id": "RyIu5EMYPL2Z",
        "colab_type": "code",
        "colab": {}
      },
      "source": [
        "best_predictions = df_predictions.sort_values(by='err')[:10]\n",
        "worst_predictions = df_predictions.sort_values(by='err')[-10:]"
      ],
      "execution_count": null,
      "outputs": []
    },
    {
      "cell_type": "code",
      "metadata": {
        "id": "GzHxeX9VPM0z",
        "colab_type": "code",
        "colab": {
          "base_uri": "https://localhost:8080/",
          "height": 343
        },
        "outputId": "56743786-000c-4720-82aa-02f3e4cf8909"
      },
      "source": [
        "best_predictions"
      ],
      "execution_count": null,
      "outputs": [
        {
          "output_type": "execute_result",
          "data": {
            "text/html": [
              "<div>\n",
              "<style scoped>\n",
              "    .dataframe tbody tr th:only-of-type {\n",
              "        vertical-align: middle;\n",
              "    }\n",
              "\n",
              "    .dataframe tbody tr th {\n",
              "        vertical-align: top;\n",
              "    }\n",
              "\n",
              "    .dataframe thead th {\n",
              "        text-align: right;\n",
              "    }\n",
              "</style>\n",
              "<table border=\"1\" class=\"dataframe\">\n",
              "  <thead>\n",
              "    <tr style=\"text-align: right;\">\n",
              "      <th></th>\n",
              "      <th>uid</th>\n",
              "      <th>iid</th>\n",
              "      <th>rui</th>\n",
              "      <th>est</th>\n",
              "      <th>details</th>\n",
              "      <th>Iu</th>\n",
              "      <th>Ui</th>\n",
              "      <th>err</th>\n",
              "    </tr>\n",
              "  </thead>\n",
              "  <tbody>\n",
              "    <tr>\n",
              "      <th>2703</th>\n",
              "      <td>43</td>\n",
              "      <td>262</td>\n",
              "      <td>5.0</td>\n",
              "      <td>5.000000</td>\n",
              "      <td>{'was_impossible': False}</td>\n",
              "      <td>87</td>\n",
              "      <td>14</td>\n",
              "      <td>0.000000</td>\n",
              "    </tr>\n",
              "    <tr>\n",
              "      <th>17971</th>\n",
              "      <td>171</td>\n",
              "      <td>1201</td>\n",
              "      <td>5.0</td>\n",
              "      <td>5.000000</td>\n",
              "      <td>{'was_impossible': False}</td>\n",
              "      <td>62</td>\n",
              "      <td>47</td>\n",
              "      <td>0.000000</td>\n",
              "    </tr>\n",
              "    <tr>\n",
              "      <th>1934</th>\n",
              "      <td>515</td>\n",
              "      <td>318</td>\n",
              "      <td>5.0</td>\n",
              "      <td>5.000000</td>\n",
              "      <td>{'was_impossible': False}</td>\n",
              "      <td>21</td>\n",
              "      <td>231</td>\n",
              "      <td>0.000000</td>\n",
              "    </tr>\n",
              "    <tr>\n",
              "      <th>3644</th>\n",
              "      <td>53</td>\n",
              "      <td>4019</td>\n",
              "      <td>5.0</td>\n",
              "      <td>5.000000</td>\n",
              "      <td>{'was_impossible': False}</td>\n",
              "      <td>15</td>\n",
              "      <td>21</td>\n",
              "      <td>0.000000</td>\n",
              "    </tr>\n",
              "    <tr>\n",
              "      <th>20645</th>\n",
              "      <td>30</td>\n",
              "      <td>318</td>\n",
              "      <td>5.0</td>\n",
              "      <td>5.000000</td>\n",
              "      <td>{'was_impossible': False}</td>\n",
              "      <td>20</td>\n",
              "      <td>231</td>\n",
              "      <td>0.000000</td>\n",
              "    </tr>\n",
              "    <tr>\n",
              "      <th>6195</th>\n",
              "      <td>43</td>\n",
              "      <td>588</td>\n",
              "      <td>5.0</td>\n",
              "      <td>5.000000</td>\n",
              "      <td>{'was_impossible': False}</td>\n",
              "      <td>87</td>\n",
              "      <td>139</td>\n",
              "      <td>0.000000</td>\n",
              "    </tr>\n",
              "    <tr>\n",
              "      <th>2162</th>\n",
              "      <td>452</td>\n",
              "      <td>1197</td>\n",
              "      <td>5.0</td>\n",
              "      <td>5.000000</td>\n",
              "      <td>{'was_impossible': False}</td>\n",
              "      <td>149</td>\n",
              "      <td>104</td>\n",
              "      <td>0.000000</td>\n",
              "    </tr>\n",
              "    <tr>\n",
              "      <th>4739</th>\n",
              "      <td>452</td>\n",
              "      <td>858</td>\n",
              "      <td>5.0</td>\n",
              "      <td>5.000000</td>\n",
              "      <td>{'was_impossible': False}</td>\n",
              "      <td>149</td>\n",
              "      <td>143</td>\n",
              "      <td>0.000000</td>\n",
              "    </tr>\n",
              "    <tr>\n",
              "      <th>16267</th>\n",
              "      <td>219</td>\n",
              "      <td>3552</td>\n",
              "      <td>3.5</td>\n",
              "      <td>3.499956</td>\n",
              "      <td>{'was_impossible': False}</td>\n",
              "      <td>402</td>\n",
              "      <td>43</td>\n",
              "      <td>0.000044</td>\n",
              "    </tr>\n",
              "    <tr>\n",
              "      <th>15728</th>\n",
              "      <td>599</td>\n",
              "      <td>256</td>\n",
              "      <td>2.0</td>\n",
              "      <td>1.999951</td>\n",
              "      <td>{'was_impossible': False}</td>\n",
              "      <td>1840</td>\n",
              "      <td>23</td>\n",
              "      <td>0.000049</td>\n",
              "    </tr>\n",
              "  </tbody>\n",
              "</table>\n",
              "</div>"
            ],
            "text/plain": [
              "       uid   iid  rui       est                    details    Iu   Ui       err\n",
              "2703    43   262  5.0  5.000000  {'was_impossible': False}    87   14  0.000000\n",
              "17971  171  1201  5.0  5.000000  {'was_impossible': False}    62   47  0.000000\n",
              "1934   515   318  5.0  5.000000  {'was_impossible': False}    21  231  0.000000\n",
              "3644    53  4019  5.0  5.000000  {'was_impossible': False}    15   21  0.000000\n",
              "20645   30   318  5.0  5.000000  {'was_impossible': False}    20  231  0.000000\n",
              "6195    43   588  5.0  5.000000  {'was_impossible': False}    87  139  0.000000\n",
              "2162   452  1197  5.0  5.000000  {'was_impossible': False}   149  104  0.000000\n",
              "4739   452   858  5.0  5.000000  {'was_impossible': False}   149  143  0.000000\n",
              "16267  219  3552  3.5  3.499956  {'was_impossible': False}   402   43  0.000044\n",
              "15728  599   256  2.0  1.999951  {'was_impossible': False}  1840   23  0.000049"
            ]
          },
          "metadata": {
            "tags": []
          },
          "execution_count": 14
        }
      ]
    },
    {
      "cell_type": "code",
      "metadata": {
        "id": "qhTplrHlPVef",
        "colab_type": "code",
        "colab": {
          "base_uri": "https://localhost:8080/",
          "height": 343
        },
        "outputId": "929e0143-d32e-4c17-e209-92f11d9dcb5c"
      },
      "source": [
        "worst_predictions"
      ],
      "execution_count": null,
      "outputs": [
        {
          "output_type": "execute_result",
          "data": {
            "text/html": [
              "<div>\n",
              "<style scoped>\n",
              "    .dataframe tbody tr th:only-of-type {\n",
              "        vertical-align: middle;\n",
              "    }\n",
              "\n",
              "    .dataframe tbody tr th {\n",
              "        vertical-align: top;\n",
              "    }\n",
              "\n",
              "    .dataframe thead th {\n",
              "        text-align: right;\n",
              "    }\n",
              "</style>\n",
              "<table border=\"1\" class=\"dataframe\">\n",
              "  <thead>\n",
              "    <tr style=\"text-align: right;\">\n",
              "      <th></th>\n",
              "      <th>uid</th>\n",
              "      <th>iid</th>\n",
              "      <th>rui</th>\n",
              "      <th>est</th>\n",
              "      <th>details</th>\n",
              "      <th>Iu</th>\n",
              "      <th>Ui</th>\n",
              "      <th>err</th>\n",
              "    </tr>\n",
              "  </thead>\n",
              "  <tbody>\n",
              "    <tr>\n",
              "      <th>4934</th>\n",
              "      <td>393</td>\n",
              "      <td>53996</td>\n",
              "      <td>0.5</td>\n",
              "      <td>4.081672</td>\n",
              "      <td>{'was_impossible': False}</td>\n",
              "      <td>97</td>\n",
              "      <td>28</td>\n",
              "      <td>3.581672</td>\n",
              "    </tr>\n",
              "    <tr>\n",
              "      <th>6245</th>\n",
              "      <td>543</td>\n",
              "      <td>59900</td>\n",
              "      <td>0.5</td>\n",
              "      <td>4.096460</td>\n",
              "      <td>{'was_impossible': False}</td>\n",
              "      <td>55</td>\n",
              "      <td>10</td>\n",
              "      <td>3.596460</td>\n",
              "    </tr>\n",
              "    <tr>\n",
              "      <th>4506</th>\n",
              "      <td>393</td>\n",
              "      <td>5445</td>\n",
              "      <td>0.5</td>\n",
              "      <td>4.147291</td>\n",
              "      <td>{'was_impossible': False}</td>\n",
              "      <td>97</td>\n",
              "      <td>83</td>\n",
              "      <td>3.647291</td>\n",
              "    </tr>\n",
              "    <tr>\n",
              "      <th>18280</th>\n",
              "      <td>393</td>\n",
              "      <td>27611</td>\n",
              "      <td>0.5</td>\n",
              "      <td>4.233238</td>\n",
              "      <td>{'was_impossible': False}</td>\n",
              "      <td>97</td>\n",
              "      <td>14</td>\n",
              "      <td>3.733238</td>\n",
              "    </tr>\n",
              "    <tr>\n",
              "      <th>24215</th>\n",
              "      <td>527</td>\n",
              "      <td>527</td>\n",
              "      <td>1.0</td>\n",
              "      <td>4.804809</td>\n",
              "      <td>{'was_impossible': False}</td>\n",
              "      <td>124</td>\n",
              "      <td>165</td>\n",
              "      <td>3.804809</td>\n",
              "    </tr>\n",
              "    <tr>\n",
              "      <th>12095</th>\n",
              "      <td>594</td>\n",
              "      <td>5909</td>\n",
              "      <td>0.5</td>\n",
              "      <td>4.329467</td>\n",
              "      <td>{'was_impossible': False}</td>\n",
              "      <td>166</td>\n",
              "      <td>3</td>\n",
              "      <td>3.829467</td>\n",
              "    </tr>\n",
              "    <tr>\n",
              "      <th>20936</th>\n",
              "      <td>573</td>\n",
              "      <td>3996</td>\n",
              "      <td>0.5</td>\n",
              "      <td>4.409931</td>\n",
              "      <td>{'was_impossible': False}</td>\n",
              "      <td>221</td>\n",
              "      <td>86</td>\n",
              "      <td>3.909931</td>\n",
              "    </tr>\n",
              "    <tr>\n",
              "      <th>9226</th>\n",
              "      <td>393</td>\n",
              "      <td>778</td>\n",
              "      <td>0.5</td>\n",
              "      <td>4.417681</td>\n",
              "      <td>{'was_impossible': False}</td>\n",
              "      <td>97</td>\n",
              "      <td>75</td>\n",
              "      <td>3.917681</td>\n",
              "    </tr>\n",
              "    <tr>\n",
              "      <th>4834</th>\n",
              "      <td>543</td>\n",
              "      <td>213</td>\n",
              "      <td>0.5</td>\n",
              "      <td>5.000000</td>\n",
              "      <td>{'was_impossible': False}</td>\n",
              "      <td>55</td>\n",
              "      <td>3</td>\n",
              "      <td>4.500000</td>\n",
              "    </tr>\n",
              "    <tr>\n",
              "      <th>7359</th>\n",
              "      <td>543</td>\n",
              "      <td>89904</td>\n",
              "      <td>0.5</td>\n",
              "      <td>5.000000</td>\n",
              "      <td>{'was_impossible': False}</td>\n",
              "      <td>55</td>\n",
              "      <td>6</td>\n",
              "      <td>4.500000</td>\n",
              "    </tr>\n",
              "  </tbody>\n",
              "</table>\n",
              "</div>"
            ],
            "text/plain": [
              "       uid    iid  rui       est                    details   Iu   Ui       err\n",
              "4934   393  53996  0.5  4.081672  {'was_impossible': False}   97   28  3.581672\n",
              "6245   543  59900  0.5  4.096460  {'was_impossible': False}   55   10  3.596460\n",
              "4506   393   5445  0.5  4.147291  {'was_impossible': False}   97   83  3.647291\n",
              "18280  393  27611  0.5  4.233238  {'was_impossible': False}   97   14  3.733238\n",
              "24215  527    527  1.0  4.804809  {'was_impossible': False}  124  165  3.804809\n",
              "12095  594   5909  0.5  4.329467  {'was_impossible': False}  166    3  3.829467\n",
              "20936  573   3996  0.5  4.409931  {'was_impossible': False}  221   86  3.909931\n",
              "9226   393    778  0.5  4.417681  {'was_impossible': False}   97   75  3.917681\n",
              "4834   543    213  0.5  5.000000  {'was_impossible': False}   55    3  4.500000\n",
              "7359   543  89904  0.5  5.000000  {'was_impossible': False}   55    6  4.500000"
            ]
          },
          "metadata": {
            "tags": []
          },
          "execution_count": 15
        }
      ]
    },
    {
      "cell_type": "code",
      "metadata": {
        "id": "iojJzf6SPa12",
        "colab_type": "code",
        "colab": {
          "base_uri": "https://localhost:8080/",
          "height": 168
        },
        "outputId": "d6cffbaf-1ccf-4e8a-95e7-96a9c74ffad9"
      },
      "source": [
        "df.loc[df['itemID'] == 7359]['rating'].describe()"
      ],
      "execution_count": null,
      "outputs": [
        {
          "output_type": "execute_result",
          "data": {
            "text/plain": [
              "count    0.0\n",
              "mean     NaN\n",
              "std      NaN\n",
              "min      NaN\n",
              "25%      NaN\n",
              "50%      NaN\n",
              "75%      NaN\n",
              "max      NaN\n",
              "Name: rating, dtype: float64"
            ]
          },
          "metadata": {
            "tags": []
          },
          "execution_count": 16
        }
      ]
    },
    {
      "cell_type": "code",
      "metadata": {
        "id": "-lA2ikPLPqK0",
        "colab_type": "code",
        "colab": {
          "base_uri": "https://localhost:8080/",
          "height": 373
        },
        "outputId": "37a798ab-c0c4-472c-ea18-a421928e938a"
      },
      "source": [
        "final = []\n",
        "\n",
        "for threshold in np.arange(0, 5.5, 0.5):\n",
        "  tp=0\n",
        "  fn=0\n",
        "  fp=0\n",
        "  tn=0\n",
        "  temp = []\n",
        "\n",
        "  for uid, _, true_r, est, _ in predictions:\n",
        "    if(true_r>=threshold):\n",
        "      if(est>=threshold):\n",
        "        tp = tp+1\n",
        "      else:\n",
        "        fn = fn+1\n",
        "    else:\n",
        "      if(est>=threshold):\n",
        "        fp = fp+1\n",
        "      else:\n",
        "        tn = tn+1   \n",
        "\n",
        "    if tp == 0:\n",
        "      precision = 0\n",
        "      recall = 0\n",
        "      f1 = 0\n",
        "    else:\n",
        "      precision = tp / (tp + fp)\n",
        "      recall = tp / (tp + fn)\n",
        "      f1 = 2 * (precision * recall) / (precision + recall)  \n",
        "\n",
        "  temp = [threshold, tp,fp,tn ,fn, precision, recall, f1]\n",
        "  final.append(temp)\n",
        "\n",
        "results = pd.DataFrame(final)\n",
        "results.rename(columns={0:'threshold', 1:'tp', 2: 'fp', 3: 'tn', 4:'fn', 5: 'Precision', 6:'Recall', 7:'F1'}, inplace=True)\n",
        "results"
      ],
      "execution_count": null,
      "outputs": [
        {
          "output_type": "execute_result",
          "data": {
            "text/html": [
              "<div>\n",
              "<style scoped>\n",
              "    .dataframe tbody tr th:only-of-type {\n",
              "        vertical-align: middle;\n",
              "    }\n",
              "\n",
              "    .dataframe tbody tr th {\n",
              "        vertical-align: top;\n",
              "    }\n",
              "\n",
              "    .dataframe thead th {\n",
              "        text-align: right;\n",
              "    }\n",
              "</style>\n",
              "<table border=\"1\" class=\"dataframe\">\n",
              "  <thead>\n",
              "    <tr style=\"text-align: right;\">\n",
              "      <th></th>\n",
              "      <th>threshold</th>\n",
              "      <th>tp</th>\n",
              "      <th>fp</th>\n",
              "      <th>tn</th>\n",
              "      <th>fn</th>\n",
              "      <th>Precision</th>\n",
              "      <th>Recall</th>\n",
              "      <th>F1</th>\n",
              "    </tr>\n",
              "  </thead>\n",
              "  <tbody>\n",
              "    <tr>\n",
              "      <th>0</th>\n",
              "      <td>0.0</td>\n",
              "      <td>25209</td>\n",
              "      <td>0</td>\n",
              "      <td>0</td>\n",
              "      <td>0</td>\n",
              "      <td>1.000000</td>\n",
              "      <td>1.000000</td>\n",
              "      <td>1.000000</td>\n",
              "    </tr>\n",
              "    <tr>\n",
              "      <th>1</th>\n",
              "      <td>0.5</td>\n",
              "      <td>25209</td>\n",
              "      <td>0</td>\n",
              "      <td>0</td>\n",
              "      <td>0</td>\n",
              "      <td>1.000000</td>\n",
              "      <td>1.000000</td>\n",
              "      <td>1.000000</td>\n",
              "    </tr>\n",
              "    <tr>\n",
              "      <th>2</th>\n",
              "      <td>1.0</td>\n",
              "      <td>24861</td>\n",
              "      <td>348</td>\n",
              "      <td>0</td>\n",
              "      <td>0</td>\n",
              "      <td>0.986195</td>\n",
              "      <td>1.000000</td>\n",
              "      <td>0.993050</td>\n",
              "    </tr>\n",
              "    <tr>\n",
              "      <th>3</th>\n",
              "      <td>1.5</td>\n",
              "      <td>24187</td>\n",
              "      <td>1003</td>\n",
              "      <td>9</td>\n",
              "      <td>10</td>\n",
              "      <td>0.960183</td>\n",
              "      <td>0.999587</td>\n",
              "      <td>0.979489</td>\n",
              "    </tr>\n",
              "    <tr>\n",
              "      <th>4</th>\n",
              "      <td>2.0</td>\n",
              "      <td>23655</td>\n",
              "      <td>1359</td>\n",
              "      <td>101</td>\n",
              "      <td>94</td>\n",
              "      <td>0.945670</td>\n",
              "      <td>0.996042</td>\n",
              "      <td>0.970203</td>\n",
              "    </tr>\n",
              "    <tr>\n",
              "      <th>5</th>\n",
              "      <td>2.5</td>\n",
              "      <td>21299</td>\n",
              "      <td>2707</td>\n",
              "      <td>694</td>\n",
              "      <td>509</td>\n",
              "      <td>0.887237</td>\n",
              "      <td>0.976660</td>\n",
              "      <td>0.929803</td>\n",
              "    </tr>\n",
              "    <tr>\n",
              "      <th>6</th>\n",
              "      <td>3.0</td>\n",
              "      <td>18155</td>\n",
              "      <td>2445</td>\n",
              "      <td>2396</td>\n",
              "      <td>2213</td>\n",
              "      <td>0.881311</td>\n",
              "      <td>0.891349</td>\n",
              "      <td>0.886302</td>\n",
              "    </tr>\n",
              "    <tr>\n",
              "      <th>7</th>\n",
              "      <td>3.5</td>\n",
              "      <td>10512</td>\n",
              "      <td>2641</td>\n",
              "      <td>7157</td>\n",
              "      <td>4899</td>\n",
              "      <td>0.799209</td>\n",
              "      <td>0.682110</td>\n",
              "      <td>0.736031</td>\n",
              "    </tr>\n",
              "    <tr>\n",
              "      <th>8</th>\n",
              "      <td>4.0</td>\n",
              "      <td>3938</td>\n",
              "      <td>784</td>\n",
              "      <td>12268</td>\n",
              "      <td>8219</td>\n",
              "      <td>0.833969</td>\n",
              "      <td>0.323929</td>\n",
              "      <td>0.466615</td>\n",
              "    </tr>\n",
              "    <tr>\n",
              "      <th>9</th>\n",
              "      <td>4.5</td>\n",
              "      <td>428</td>\n",
              "      <td>183</td>\n",
              "      <td>19622</td>\n",
              "      <td>4976</td>\n",
              "      <td>0.700491</td>\n",
              "      <td>0.079201</td>\n",
              "      <td>0.142311</td>\n",
              "    </tr>\n",
              "    <tr>\n",
              "      <th>10</th>\n",
              "      <td>5.0</td>\n",
              "      <td>8</td>\n",
              "      <td>5</td>\n",
              "      <td>21982</td>\n",
              "      <td>3214</td>\n",
              "      <td>0.615385</td>\n",
              "      <td>0.002483</td>\n",
              "      <td>0.004946</td>\n",
              "    </tr>\n",
              "  </tbody>\n",
              "</table>\n",
              "</div>"
            ],
            "text/plain": [
              "    threshold     tp    fp     tn    fn  Precision    Recall        F1\n",
              "0         0.0  25209     0      0     0   1.000000  1.000000  1.000000\n",
              "1         0.5  25209     0      0     0   1.000000  1.000000  1.000000\n",
              "2         1.0  24861   348      0     0   0.986195  1.000000  0.993050\n",
              "3         1.5  24187  1003      9    10   0.960183  0.999587  0.979489\n",
              "4         2.0  23655  1359    101    94   0.945670  0.996042  0.970203\n",
              "5         2.5  21299  2707    694   509   0.887237  0.976660  0.929803\n",
              "6         3.0  18155  2445   2396  2213   0.881311  0.891349  0.886302\n",
              "7         3.5  10512  2641   7157  4899   0.799209  0.682110  0.736031\n",
              "8         4.0   3938   784  12268  8219   0.833969  0.323929  0.466615\n",
              "9         4.5    428   183  19622  4976   0.700491  0.079201  0.142311\n",
              "10        5.0      8     5  21982  3214   0.615385  0.002483  0.004946"
            ]
          },
          "metadata": {
            "tags": []
          },
          "execution_count": 17
        }
      ]
    },
    {
      "cell_type": "code",
      "metadata": {
        "id": "m-ZZH4q6PyYc",
        "colab_type": "code",
        "colab": {}
      },
      "source": [
        "def precision_recall_at_k(predictions, k, threshold):\n",
        "    '''Return precision and recall at k metrics for each user.'''\n",
        "\n",
        "    # First map the predictions to each user.\n",
        "    user_est_true = defaultdict(list)\n",
        "    for uid, _, true_r, est, _ in predictions:\n",
        "        user_est_true[uid].append((est, true_r))\n",
        "\n",
        "    precisions = dict()\n",
        "    recalls = dict()\n",
        "    for uid, user_ratings in user_est_true.items():\n",
        "\n",
        "        # Sort user ratings by estimated value\n",
        "        user_ratings.sort(key=lambda x: x[0], reverse=True)\n",
        "\n",
        "        # Number of relevant items\n",
        "        n_rel = sum((true_r >= threshold) for (_, true_r) in user_ratings)\n",
        "\n",
        "        # Number of recommended items in top k\n",
        "        n_rec_k = sum((est >= threshold) for (est, _) in user_ratings[:k])\n",
        "\n",
        "        # Number of relevant and recommended items in top k\n",
        "        n_rel_and_rec_k = sum(((true_r >= threshold) and (est >= threshold))\n",
        "                              for (est, true_r) in user_ratings[:k])\n",
        "\n",
        "        # Precision@K: Proportion of recommended items that are relevant\n",
        "        precisions[uid] = n_rel_and_rec_k / n_rec_k if n_rec_k != 0 else 1\n",
        "\n",
        "        # Recall@K: Proportion of relevant items that are recommended\n",
        "        recalls[uid] = n_rel_and_rec_k / n_rel if n_rel != 0 else 1\n",
        "\n",
        "    #tp = n_rel_and_rec_k\n",
        "    #fn =  n_rel - tp\n",
        "    #fp = n_rec_k - tp\n",
        "    return precisions, recalls\n",
        "    \n",
        "    \n",
        "###"
      ],
      "execution_count": null,
      "outputs": []
    },
    {
      "cell_type": "code",
      "metadata": {
        "id": "RXKrAUseP1IN",
        "colab_type": "code",
        "colab": {
          "base_uri": "https://localhost:8080/",
          "height": 168
        },
        "outputId": "2a1692ba-6bc7-44b3-f64b-ba9114e696e1"
      },
      "source": [
        "results=[]\n",
        "for i in range(2, 11):\n",
        "    precisions, recalls = precision_recall_at_k(predictions, k=i, threshold=2.5)\n",
        "\n",
        "    # Precision and recall can then be averaged over all users\n",
        "    prec = sum(prec for prec in precisions.values()) / len(precisions)\n",
        "    rec = sum(rec for rec in recalls.values()) / len(recalls)\n",
        "    results.append({'K': i, 'Precision': prec, 'Recall': rec})\n",
        "    \n",
        "\n",
        "results\n",
        "\n",
        "###"
      ],
      "execution_count": null,
      "outputs": [
        {
          "output_type": "execute_result",
          "data": {
            "text/plain": [
              "[{'K': 2, 'Precision': 0.9459016393442623, 'Recall': 0.17063562625089712},\n",
              " {'K': 3, 'Precision': 0.9448087431693993, 'Recall': 0.25047232920949286},\n",
              " {'K': 4, 'Precision': 0.9415300546448084, 'Recall': 0.3201601170431681},\n",
              " {'K': 5, 'Precision': 0.9374316939890719, 'Recall': 0.38504217671660473},\n",
              " {'K': 6, 'Precision': 0.9356284153005453, 'Recall': 0.43857402997506545},\n",
              " {'K': 7, 'Precision': 0.9313739266198263, 'Recall': 0.48330665699760783},\n",
              " {'K': 8, 'Precision': 0.9291198282591718, 'Recall': 0.5239293543576625},\n",
              " {'K': 9, 'Precision': 0.9262509758001567, 'Recall': 0.556638972614597},\n",
              " {'K': 10, 'Precision': 0.9239194639604461, 'Recall': 0.5861476728801244}]"
            ]
          },
          "metadata": {
            "tags": []
          },
          "execution_count": 19
        }
      ]
    },
    {
      "cell_type": "code",
      "metadata": {
        "id": "65zcGf8MP37V",
        "colab_type": "code",
        "colab": {
          "base_uri": "https://localhost:8080/",
          "height": 280
        },
        "outputId": "eb389c42-04e6-49aa-d2ce-152b45f99720"
      },
      "source": [
        "Rec=[]\n",
        "Precision=[]\n",
        "Recall=[]\n",
        "for i in range(0,9):\n",
        "    Rec.append(results[i]['K'])\n",
        "    Precision.append(results[i]['Precision'])\n",
        "    Recall.append(results[i]['Recall'])\n",
        "\n",
        "from matplotlib import pyplot as plt\n",
        "plt.plot(Rec, Precision)\n",
        "plt.xlabel('# of Recommendations')\n",
        "plt.ylabel('Precision')\n",
        "plt2 = plt.twinx()\n",
        "plt2.plot(Rec, Recall, 'r')\n",
        "plt.ylabel('Recall')\n",
        "for tl in plt2.get_yticklabels():\n",
        "    tl.set_color('r')\n",
        "    ###"
      ],
      "execution_count": null,
      "outputs": [
        {
          "output_type": "display_data",
          "data": {
            "image/png": "[encoded data removed]",
            "text/plain": [
              "<Figure size 432x288 with 2 Axes>"
            ]
          },
          "metadata": {
            "tags": [],
            "needs_background": "light"
          }
        }
      ]
    },
    {
      "cell_type": "code",
      "metadata": {
        "id": "oixviVqTQc6U",
        "colab_type": "code",
        "colab": {}
      },
      "source": [
        "trainset = data.build_full_trainset()   #Build on entire data set\n",
        "algo = SVD(n_factors=factors, n_epochs=epochs, lr_all=lr_value, reg_all=reg_value)\n",
        "algo.fit(trainset)\n",
        "\n",
        "# Predict ratings for all pairs (u, i) that are NOT in the training set.\n",
        "testset = trainset.build_anti_testset()\n",
        "\n",
        "#Predicting the ratings for testset\n",
        "predictions = algo.test(testset)"
      ],
      "execution_count": null,
      "outputs": []
    },
    {
      "cell_type": "code",
      "metadata": {
        "id": "1oesalaURAOy",
        "colab_type": "code",
        "colab": {}
      },
      "source": [
        "def get_all_predictions(predictions):\n",
        "    \n",
        "    # First map the predictions to each user.\n",
        "    top_n = defaultdict(list)    \n",
        "    for uid, iid, true_r, est, _ in predictions:\n",
        "        top_n[uid].append((iid, est))\n",
        "\n",
        "    # Then sort the predictions for each user\n",
        "    for uid, user_ratings in top_n.items():\n",
        "        user_ratings.sort(key=lambda x: x[1], reverse=True)\n",
        "\n",
        "    return top_n"
      ],
      "execution_count": null,
      "outputs": []
    },
    {
      "cell_type": "code",
      "metadata": {
        "id": "R47DYHBhRTQS",
        "colab_type": "code",
        "colab": {}
      },
      "source": [
        "all_pred = get_all_predictions(predictions)"
      ],
      "execution_count": null,
      "outputs": []
    },
    {
      "cell_type": "code",
      "metadata": {
        "id": "VBzWzAu6RWrK",
        "colab_type": "code",
        "colab": {}
      },
      "source": [
        "n = 4\n",
        "\n",
        "for uid, user_ratings in all_pred.items():\n",
        "    user_ratings.sort(key=lambda x: x[1], reverse=True)\n",
        "    all_pred[uid] = user_ratings[:n]"
      ],
      "execution_count": null,
      "outputs": []
    },
    {
      "cell_type": "code",
      "metadata": {
        "id": "X0zvd-D9Raiv",
        "colab_type": "code",
        "colab": {}
      },
      "source": [
        "tmp = pd.DataFrame.from_dict(all_pred)\n",
        "tmp_transpose = tmp.transpose()"
      ],
      "execution_count": null,
      "outputs": []
    },
    {
      "cell_type": "code",
      "metadata": {
        "id": "GjGxvQX8Rdhr",
        "colab_type": "code",
        "colab": {}
      },
      "source": [
        "def get_predictions(user_id):\n",
        "    results = tmp_transpose.loc[user_id]\n",
        "    return results"
      ],
      "execution_count": null,
      "outputs": []
    },
    {
      "cell_type": "code",
      "metadata": {
        "id": "_RnRgZj0RgvX",
        "colab_type": "code",
        "colab": {
          "base_uri": "https://localhost:8080/",
          "height": 101
        },
        "outputId": "c406945e-2641-4fc7-e9ae-af233c60f5e6"
      },
      "source": [
        "user_id=67\n",
        "results = get_predictions(user_id)\n",
        "results"
      ],
      "execution_count": null,
      "outputs": [
        {
          "output_type": "execute_result",
          "data": {
            "text/plain": [
              "0    (3451, 4.444474994059728)\n",
              "1    (1104, 4.421293164265549)\n",
              "2    (2360, 4.403655550938905)\n",
              "3    (3030, 4.400286853845291)\n",
              "Name: 67, dtype: object"
            ]
          },
          "metadata": {
            "tags": []
          },
          "execution_count": 27
        }
      ]
    },
    {
      "cell_type": "code",
      "metadata": {
        "id": "FWjp0fN8RpKg",
        "colab_type": "code",
        "colab": {
          "base_uri": "https://localhost:8080/",
          "height": 34
        },
        "outputId": "dd3902fe-7914-4f3d-832d-766a4e38705a"
      },
      "source": [
        "recommended_movie_ids=[]\n",
        "for x in range(0, n):\n",
        "    recommended_movie_ids.append(results[x][0])\n",
        "\n",
        "recommended_movie_ids"
      ],
      "execution_count": null,
      "outputs": [
        {
          "output_type": "execute_result",
          "data": {
            "text/plain": [
              "[3451, 1104, 2360, 3030]"
            ]
          },
          "metadata": {
            "tags": []
          },
          "execution_count": 28
        }
      ]
    },
    {
      "cell_type": "code",
      "metadata": {
        "id": "YcwRVJWsRsy3",
        "colab_type": "code",
        "colab": {
          "base_uri": "https://localhost:8080/",
          "height": 166
        },
        "outputId": "b9f69ded-4026-4979-adc4-3d72caed99ec"
      },
      "source": [
        "movies = pd.read_csv('movies.csv')\n",
        "movies.head()\n",
        "recommended_movies = movies[movies['movieId'].isin(recommended_movie_ids)]\n",
        "recommended_movies"
      ],
      "execution_count": null,
      "outputs": [
        {
          "output_type": "execute_result",
          "data": {
            "text/html": [
              "<div>\n",
              "<style scoped>\n",
              "    .dataframe tbody tr th:only-of-type {\n",
              "        vertical-align: middle;\n",
              "    }\n",
              "\n",
              "    .dataframe tbody tr th {\n",
              "        vertical-align: top;\n",
              "    }\n",
              "\n",
              "    .dataframe thead th {\n",
              "        text-align: right;\n",
              "    }\n",
              "</style>\n",
              "<table border=\"1\" class=\"dataframe\">\n",
              "  <thead>\n",
              "    <tr style=\"text-align: right;\">\n",
              "      <th></th>\n",
              "      <th>movieId</th>\n",
              "      <th>title</th>\n",
              "      <th>genres</th>\n",
              "    </tr>\n",
              "  </thead>\n",
              "  <tbody>\n",
              "    <tr>\n",
              "      <th>841</th>\n",
              "      <td>1104</td>\n",
              "      <td>Streetcar Named Desire, A (1951)</td>\n",
              "      <td>Drama</td>\n",
              "    </tr>\n",
              "    <tr>\n",
              "      <th>1762</th>\n",
              "      <td>2360</td>\n",
              "      <td>Celebration, The (Festen) (1998)</td>\n",
              "      <td>Drama</td>\n",
              "    </tr>\n",
              "    <tr>\n",
              "      <th>2283</th>\n",
              "      <td>3030</td>\n",
              "      <td>Yojimbo (1961)</td>\n",
              "      <td>Action|Adventure</td>\n",
              "    </tr>\n",
              "    <tr>\n",
              "      <th>2582</th>\n",
              "      <td>3451</td>\n",
              "      <td>Guess Who's Coming to Dinner (1967)</td>\n",
              "      <td>Drama</td>\n",
              "    </tr>\n",
              "  </tbody>\n",
              "</table>\n",
              "</div>"
            ],
            "text/plain": [
              "      movieId                                title            genres\n",
              "841      1104     Streetcar Named Desire, A (1951)             Drama\n",
              "1762     2360     Celebration, The (Festen) (1998)             Drama\n",
              "2283     3030                       Yojimbo (1961)  Action|Adventure\n",
              "2582     3451  Guess Who's Coming to Dinner (1967)             Drama"
            ]
          },
          "metadata": {
            "tags": []
          },
          "execution_count": 30
        }
      ]
    },
    {
      "cell_type": "code",
      "metadata": {
        "id": "4aJt8t5OR62V",
        "colab_type": "code",
        "colab": {
          "base_uri": "https://localhost:8080/",
          "height": 195
        },
        "outputId": "27b98a7a-680a-4af1-8cbf-d273a07d342e"
      },
      "source": [
        "ratings = pd.read_csv('ratings.csv')\n",
        "\n",
        "\n",
        "ratings_dict = {'itemID': list(ratings.movieId),\n",
        "                'userID': list(ratings.userId),\n",
        "                'rating': list(ratings.rating)}\n",
        "\n",
        "df = pd.DataFrame(ratings_dict)\n",
        "df.head()"
      ],
      "execution_count": null,
      "outputs": [
        {
          "output_type": "execute_result",
          "data": {
            "text/html": [
              "<div>\n",
              "<style scoped>\n",
              "    .dataframe tbody tr th:only-of-type {\n",
              "        vertical-align: middle;\n",
              "    }\n",
              "\n",
              "    .dataframe tbody tr th {\n",
              "        vertical-align: top;\n",
              "    }\n",
              "\n",
              "    .dataframe thead th {\n",
              "        text-align: right;\n",
              "    }\n",
              "</style>\n",
              "<table border=\"1\" class=\"dataframe\">\n",
              "  <thead>\n",
              "    <tr style=\"text-align: right;\">\n",
              "      <th></th>\n",
              "      <th>itemID</th>\n",
              "      <th>userID</th>\n",
              "      <th>rating</th>\n",
              "    </tr>\n",
              "  </thead>\n",
              "  <tbody>\n",
              "    <tr>\n",
              "      <th>0</th>\n",
              "      <td>1</td>\n",
              "      <td>1</td>\n",
              "      <td>4.0</td>\n",
              "    </tr>\n",
              "    <tr>\n",
              "      <th>1</th>\n",
              "      <td>3</td>\n",
              "      <td>1</td>\n",
              "      <td>4.0</td>\n",
              "    </tr>\n",
              "    <tr>\n",
              "      <th>2</th>\n",
              "      <td>6</td>\n",
              "      <td>1</td>\n",
              "      <td>4.0</td>\n",
              "    </tr>\n",
              "    <tr>\n",
              "      <th>3</th>\n",
              "      <td>47</td>\n",
              "      <td>1</td>\n",
              "      <td>5.0</td>\n",
              "    </tr>\n",
              "    <tr>\n",
              "      <th>4</th>\n",
              "      <td>50</td>\n",
              "      <td>1</td>\n",
              "      <td>5.0</td>\n",
              "    </tr>\n",
              "  </tbody>\n",
              "</table>\n",
              "</div>"
            ],
            "text/plain": [
              "   itemID  userID  rating\n",
              "0       1       1     4.0\n",
              "1       3       1     4.0\n",
              "2       6       1     4.0\n",
              "3      47       1     5.0\n",
              "4      50       1     5.0"
            ]
          },
          "metadata": {
            "tags": []
          },
          "execution_count": 32
        }
      ]
    },
    {
      "cell_type": "code",
      "metadata": {
        "id": "GnC_7t-GR_jn",
        "colab_type": "code",
        "colab": {
          "base_uri": "https://localhost:8080/",
          "height": 195
        },
        "outputId": "30bd810d-810d-4518-ba57-6763ed9c6878"
      },
      "source": [
        "temp = df[df['userID'] == 67].sort_values(\"rating\", ascending = False)\n",
        "temp.head()"
      ],
      "execution_count": null,
      "outputs": [
        {
          "output_type": "execute_result",
          "data": {
            "text/html": [
              "<div>\n",
              "<style scoped>\n",
              "    .dataframe tbody tr th:only-of-type {\n",
              "        vertical-align: middle;\n",
              "    }\n",
              "\n",
              "    .dataframe tbody tr th {\n",
              "        vertical-align: top;\n",
              "    }\n",
              "\n",
              "    .dataframe thead th {\n",
              "        text-align: right;\n",
              "    }\n",
              "</style>\n",
              "<table border=\"1\" class=\"dataframe\">\n",
              "  <thead>\n",
              "    <tr style=\"text-align: right;\">\n",
              "      <th></th>\n",
              "      <th>itemID</th>\n",
              "      <th>userID</th>\n",
              "      <th>rating</th>\n",
              "    </tr>\n",
              "  </thead>\n",
              "  <tbody>\n",
              "    <tr>\n",
              "      <th>10324</th>\n",
              "      <td>293</td>\n",
              "      <td>67</td>\n",
              "      <td>5.0</td>\n",
              "    </tr>\n",
              "    <tr>\n",
              "      <th>10352</th>\n",
              "      <td>8604</td>\n",
              "      <td>67</td>\n",
              "      <td>5.0</td>\n",
              "    </tr>\n",
              "    <tr>\n",
              "      <th>10332</th>\n",
              "      <td>1527</td>\n",
              "      <td>67</td>\n",
              "      <td>5.0</td>\n",
              "    </tr>\n",
              "    <tr>\n",
              "      <th>10354</th>\n",
              "      <td>27193</td>\n",
              "      <td>67</td>\n",
              "      <td>5.0</td>\n",
              "    </tr>\n",
              "    <tr>\n",
              "      <th>10343</th>\n",
              "      <td>4886</td>\n",
              "      <td>67</td>\n",
              "      <td>4.5</td>\n",
              "    </tr>\n",
              "  </tbody>\n",
              "</table>\n",
              "</div>"
            ],
            "text/plain": [
              "       itemID  userID  rating\n",
              "10324     293      67     5.0\n",
              "10352    8604      67     5.0\n",
              "10332    1527      67     5.0\n",
              "10354   27193      67     5.0\n",
              "10343    4886      67     4.5"
            ]
          },
          "metadata": {
            "tags": []
          },
          "execution_count": 33
        }
      ]
    },
    {
      "cell_type": "code",
      "metadata": {
        "id": "vCEdRBxfSDWN",
        "colab_type": "code",
        "colab": {
          "base_uri": "https://localhost:8080/",
          "height": 34
        },
        "outputId": "e1fc49d7-91c1-40d1-b338-11a2e953f129"
      },
      "source": [
        "temp.shape"
      ],
      "execution_count": null,
      "outputs": [
        {
          "output_type": "execute_result",
          "data": {
            "text/plain": [
              "(36, 3)"
            ]
          },
          "metadata": {
            "tags": []
          },
          "execution_count": 34
        }
      ]
    },
    {
      "cell_type": "code",
      "metadata": {
        "id": "wGMalSweSF0v",
        "colab_type": "code",
        "colab": {}
      },
      "source": [
        "history_movie_ids = temp['itemID']\n",
        "user_history = movies[movies['movieId'].isin(history_movie_ids)]"
      ],
      "execution_count": null,
      "outputs": []
    },
    {
      "cell_type": "code",
      "metadata": {
        "id": "E6iQbEDzSIz2",
        "colab_type": "code",
        "colab": {
          "base_uri": "https://localhost:8080/",
          "height": 166
        },
        "outputId": "9b195d94-818f-4515-b1cf-0a3fd0362067"
      },
      "source": [
        "user_history[:n]"
      ],
      "execution_count": null,
      "outputs": [
        {
          "output_type": "execute_result",
          "data": {
            "text/html": [
              "<div>\n",
              "<style scoped>\n",
              "    .dataframe tbody tr th:only-of-type {\n",
              "        vertical-align: middle;\n",
              "    }\n",
              "\n",
              "    .dataframe tbody tr th {\n",
              "        vertical-align: top;\n",
              "    }\n",
              "\n",
              "    .dataframe thead th {\n",
              "        text-align: right;\n",
              "    }\n",
              "</style>\n",
              "<table border=\"1\" class=\"dataframe\">\n",
              "  <thead>\n",
              "    <tr style=\"text-align: right;\">\n",
              "      <th></th>\n",
              "      <th>movieId</th>\n",
              "      <th>title</th>\n",
              "      <th>genres</th>\n",
              "    </tr>\n",
              "  </thead>\n",
              "  <tbody>\n",
              "    <tr>\n",
              "      <th>254</th>\n",
              "      <td>293</td>\n",
              "      <td>Léon: The Professional (a.k.a. The Professiona...</td>\n",
              "      <td>Action|Crime|Drama|Thriller</td>\n",
              "    </tr>\n",
              "    <tr>\n",
              "      <th>257</th>\n",
              "      <td>296</td>\n",
              "      <td>Pulp Fiction (1994)</td>\n",
              "      <td>Comedy|Crime|Drama|Thriller</td>\n",
              "    </tr>\n",
              "    <tr>\n",
              "      <th>277</th>\n",
              "      <td>318</td>\n",
              "      <td>Shawshank Redemption, The (1994)</td>\n",
              "      <td>Crime|Drama</td>\n",
              "    </tr>\n",
              "    <tr>\n",
              "      <th>314</th>\n",
              "      <td>356</td>\n",
              "      <td>Forrest Gump (1994)</td>\n",
              "      <td>Comedy|Drama|Romance|War</td>\n",
              "    </tr>\n",
              "  </tbody>\n",
              "</table>\n",
              "</div>"
            ],
            "text/plain": [
              "     movieId  ...                       genres\n",
              "254      293  ...  Action|Crime|Drama|Thriller\n",
              "257      296  ...  Comedy|Crime|Drama|Thriller\n",
              "277      318  ...                  Crime|Drama\n",
              "314      356  ...     Comedy|Drama|Romance|War\n",
              "\n",
              "[4 rows x 3 columns]"
            ]
          },
          "metadata": {
            "tags": []
          },
          "execution_count": 36
        }
      ]
    },
    {
      "cell_type": "code",
      "metadata": {
        "id": "GI5stRkLSMaI",
        "colab_type": "code",
        "colab": {
          "base_uri": "https://localhost:8080/",
          "height": 166
        },
        "outputId": "3d561cdf-4b7a-43b5-b958-e0e16a216d8e"
      },
      "source": [
        "recommended_movies"
      ],
      "execution_count": null,
      "outputs": [
        {
          "output_type": "execute_result",
          "data": {
            "text/html": [
              "<div>\n",
              "<style scoped>\n",
              "    .dataframe tbody tr th:only-of-type {\n",
              "        vertical-align: middle;\n",
              "    }\n",
              "\n",
              "    .dataframe tbody tr th {\n",
              "        vertical-align: top;\n",
              "    }\n",
              "\n",
              "    .dataframe thead th {\n",
              "        text-align: right;\n",
              "    }\n",
              "</style>\n",
              "<table border=\"1\" class=\"dataframe\">\n",
              "  <thead>\n",
              "    <tr style=\"text-align: right;\">\n",
              "      <th></th>\n",
              "      <th>movieId</th>\n",
              "      <th>title</th>\n",
              "      <th>genres</th>\n",
              "    </tr>\n",
              "  </thead>\n",
              "  <tbody>\n",
              "    <tr>\n",
              "      <th>841</th>\n",
              "      <td>1104</td>\n",
              "      <td>Streetcar Named Desire, A (1951)</td>\n",
              "      <td>Drama</td>\n",
              "    </tr>\n",
              "    <tr>\n",
              "      <th>1762</th>\n",
              "      <td>2360</td>\n",
              "      <td>Celebration, The (Festen) (1998)</td>\n",
              "      <td>Drama</td>\n",
              "    </tr>\n",
              "    <tr>\n",
              "      <th>2283</th>\n",
              "      <td>3030</td>\n",
              "      <td>Yojimbo (1961)</td>\n",
              "      <td>Action|Adventure</td>\n",
              "    </tr>\n",
              "    <tr>\n",
              "      <th>2582</th>\n",
              "      <td>3451</td>\n",
              "      <td>Guess Who's Coming to Dinner (1967)</td>\n",
              "      <td>Drama</td>\n",
              "    </tr>\n",
              "  </tbody>\n",
              "</table>\n",
              "</div>"
            ],
            "text/plain": [
              "      movieId                                title            genres\n",
              "841      1104     Streetcar Named Desire, A (1951)             Drama\n",
              "1762     2360     Celebration, The (Festen) (1998)             Drama\n",
              "2283     3030                       Yojimbo (1961)  Action|Adventure\n",
              "2582     3451  Guess Who's Coming to Dinner (1967)             Drama"
            ]
          },
          "metadata": {
            "tags": []
          },
          "execution_count": 37
        }
      ]
    }
  ]
}